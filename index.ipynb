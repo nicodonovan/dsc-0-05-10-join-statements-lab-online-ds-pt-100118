{
 "cells": [
  {
   "cell_type": "markdown",
   "metadata": {},
   "source": [
    "# Join Statements"
   ]
  },
  {
   "cell_type": "markdown",
   "metadata": {},
   "source": [
    "## Introduction"
   ]
  },
  {
   "cell_type": "markdown",
   "metadata": {},
   "source": [
    "In this lab, you'll practice your knowledge on Join statements."
   ]
  },
  {
   "cell_type": "markdown",
   "metadata": {},
   "source": [
    "## Objectives"
   ]
  },
  {
   "cell_type": "markdown",
   "metadata": {},
   "source": [
    "You will be able to:\n",
    "- Write queries that make use of various types of Joins\n",
    "- Join tables using foreign keys"
   ]
  },
  {
   "cell_type": "markdown",
   "metadata": {},
   "source": [
    "## CRM Schema\n",
    "\n",
    "In almost all cases, rather then just working with a single table we will typically need data from multiple tables. \n",
    "Doing this requires the use of **joins ** using shared columns from the two tables. \n",
    "\n",
    "In this lab, we'll use the same Customer Relationship Management (CRM) database we used in our lecture before!\n",
    "<img src='Database-Schema.png' width=550>"
   ]
  },
  {
   "cell_type": "markdown",
   "metadata": {},
   "source": [
    "## Connecting to the Database\n",
    "Import the necessary packages and connect to the database **data.sqlite**."
   ]
  },
  {
   "cell_type": "code",
   "execution_count": 5,
   "metadata": {},
   "outputs": [],
   "source": [
    "#Your code here\n",
    "import pandas as pd\n",
    "import sqlite3\n",
    "connection = sqlite3.connect('data.sqlite')\n",
    "cursor = connection.cursor()"
   ]
  },
  {
   "cell_type": "markdown",
   "metadata": {},
   "source": [
    "## Display the names of all the employees in Boston."
   ]
  },
  {
   "cell_type": "code",
   "execution_count": 3,
   "metadata": {},
   "outputs": [
    {
     "data": {
      "text/plain": [
       "[('Firrelli', 'Julie'), ('Patterson', 'Steve')]"
      ]
     },
     "execution_count": 3,
     "metadata": {},
     "output_type": "execute_result"
    }
   ],
   "source": [
    "#Your code here\n",
    "cursor.execute('''SELECT lastName, firstName FROM employees JOIN offices USING(officecode) WHERE city = 'Boston';''').fetchall()"
   ]
  },
  {
   "cell_type": "markdown",
   "metadata": {},
   "source": [
    "## Do any offices have no employees?"
   ]
  },
  {
   "cell_type": "code",
   "execution_count": 15,
   "metadata": {},
   "outputs": [
    {
     "data": {
      "text/html": [
       "<div>\n",
       "<style scoped>\n",
       "    .dataframe tbody tr th:only-of-type {\n",
       "        vertical-align: middle;\n",
       "    }\n",
       "\n",
       "    .dataframe tbody tr th {\n",
       "        vertical-align: top;\n",
       "    }\n",
       "\n",
       "    .dataframe thead th {\n",
       "        text-align: right;\n",
       "    }\n",
       "</style>\n",
       "<table border=\"1\" class=\"dataframe\">\n",
       "  <thead>\n",
       "    <tr style=\"text-align: right;\">\n",
       "      <th></th>\n",
       "      <th>city</th>\n",
       "      <th>COUNT(*)</th>\n",
       "    </tr>\n",
       "  </thead>\n",
       "  <tbody>\n",
       "    <tr>\n",
       "      <th>0</th>\n",
       "      <td>Boston</td>\n",
       "      <td>2</td>\n",
       "    </tr>\n",
       "    <tr>\n",
       "      <th>1</th>\n",
       "      <td>London</td>\n",
       "      <td>2</td>\n",
       "    </tr>\n",
       "    <tr>\n",
       "      <th>2</th>\n",
       "      <td>NYC</td>\n",
       "      <td>2</td>\n",
       "    </tr>\n",
       "    <tr>\n",
       "      <th>3</th>\n",
       "      <td>Paris</td>\n",
       "      <td>5</td>\n",
       "    </tr>\n",
       "    <tr>\n",
       "      <th>4</th>\n",
       "      <td>San Francisco</td>\n",
       "      <td>6</td>\n",
       "    </tr>\n",
       "  </tbody>\n",
       "</table>\n",
       "</div>"
      ],
      "text/plain": [
       "            city  COUNT(*)\n",
       "0         Boston         2\n",
       "1         London         2\n",
       "2            NYC         2\n",
       "3          Paris         5\n",
       "4  San Francisco         6"
      ]
     },
     "execution_count": 15,
     "metadata": {},
     "output_type": "execute_result"
    }
   ],
   "source": [
    "#Your code here\n",
    "cursor.execute(\"\"\"SELECT city, COUNT(*) FROM offices\n",
    "                        LEFT JOIN employees\n",
    "                        USING(officeCode)\n",
    "                        GROUP BY 1;\n",
    "                       \"\"\")\n",
    "df = pd.DataFrame(cursor.fetchall()) #Take results and create dataframe\n",
    "df.columns = [i[0] for i in cursor.description]\n",
    "df.head()\n",
    "\n",
    "# answer is NO"
   ]
  },
  {
   "cell_type": "markdown",
   "metadata": {},
   "source": [
    "## Write 3 Questions of your own and answer them"
   ]
  },
  {
   "cell_type": "code",
   "execution_count": null,
   "metadata": {},
   "outputs": [],
   "source": [
    "# Answers will vary"
   ]
  },
  {
   "cell_type": "code",
   "execution_count": 18,
   "metadata": {},
   "outputs": [
    {
     "data": {
      "text/html": [
       "<div>\n",
       "<style scoped>\n",
       "    .dataframe tbody tr th:only-of-type {\n",
       "        vertical-align: middle;\n",
       "    }\n",
       "\n",
       "    .dataframe tbody tr th {\n",
       "        vertical-align: top;\n",
       "    }\n",
       "\n",
       "    .dataframe thead th {\n",
       "        text-align: right;\n",
       "    }\n",
       "</style>\n",
       "<table border=\"1\" class=\"dataframe\">\n",
       "  <thead>\n",
       "    <tr style=\"text-align: right;\">\n",
       "      <th></th>\n",
       "      <th>productCode</th>\n",
       "      <th>productName</th>\n",
       "      <th>productLine</th>\n",
       "      <th>productScale</th>\n",
       "      <th>productVendor</th>\n",
       "      <th>productDescription</th>\n",
       "      <th>quantityInStock</th>\n",
       "      <th>buyPrice</th>\n",
       "      <th>MSRP</th>\n",
       "      <th>orderNumber</th>\n",
       "      <th>quantityOrdered</th>\n",
       "      <th>priceEach</th>\n",
       "      <th>orderLineNumber</th>\n",
       "    </tr>\n",
       "  </thead>\n",
       "  <tbody>\n",
       "    <tr>\n",
       "      <th>0</th>\n",
       "      <td>S12_4675</td>\n",
       "      <td>1969 Dodge Charger</td>\n",
       "      <td>Classic Cars</td>\n",
       "      <td>1:12</td>\n",
       "      <td>Welly Diecast Productions</td>\n",
       "      <td>Detailed model of the 1969 Dodge Charger. This...</td>\n",
       "      <td>7323</td>\n",
       "      <td>58.73</td>\n",
       "      <td>115.16</td>\n",
       "      <td>10405</td>\n",
       "      <td>97</td>\n",
       "      <td>115.16</td>\n",
       "      <td>5</td>\n",
       "    </tr>\n",
       "    <tr>\n",
       "      <th>1</th>\n",
       "      <td>S18_3278</td>\n",
       "      <td>1969 Dodge Super Bee</td>\n",
       "      <td>Classic Cars</td>\n",
       "      <td>1:18</td>\n",
       "      <td>Min Lin Diecast</td>\n",
       "      <td>This replica features opening doors, superb de...</td>\n",
       "      <td>1917</td>\n",
       "      <td>49.05</td>\n",
       "      <td>80.41</td>\n",
       "      <td>10404</td>\n",
       "      <td>90</td>\n",
       "      <td>67.54</td>\n",
       "      <td>6</td>\n",
       "    </tr>\n",
       "    <tr>\n",
       "      <th>2</th>\n",
       "      <td>S700_2466</td>\n",
       "      <td>America West Airlines B757-200</td>\n",
       "      <td>Planes</td>\n",
       "      <td>1:700</td>\n",
       "      <td>Motor City Art Classics</td>\n",
       "      <td>Official logos and insignias. Working steering...</td>\n",
       "      <td>9653</td>\n",
       "      <td>68.80</td>\n",
       "      <td>99.72</td>\n",
       "      <td>10401</td>\n",
       "      <td>85</td>\n",
       "      <td>98.72</td>\n",
       "      <td>10</td>\n",
       "    </tr>\n",
       "    <tr>\n",
       "      <th>3</th>\n",
       "      <td>S12_3990</td>\n",
       "      <td>1970 Plymouth Hemi Cuda</td>\n",
       "      <td>Classic Cars</td>\n",
       "      <td>1:12</td>\n",
       "      <td>Studio M Art Models</td>\n",
       "      <td>Very detailed 1970 Plymouth Cuda model in 1:12...</td>\n",
       "      <td>5663</td>\n",
       "      <td>31.92</td>\n",
       "      <td>79.80</td>\n",
       "      <td>10404</td>\n",
       "      <td>77</td>\n",
       "      <td>67.03</td>\n",
       "      <td>4</td>\n",
       "    </tr>\n",
       "    <tr>\n",
       "      <th>4</th>\n",
       "      <td>S700_3167</td>\n",
       "      <td>F/A 18 Hornet 1/72</td>\n",
       "      <td>Planes</td>\n",
       "      <td>1:72</td>\n",
       "      <td>Motor City Art Classics</td>\n",
       "      <td>10\" Wingspan with retractable landing gears.Co...</td>\n",
       "      <td>551</td>\n",
       "      <td>54.40</td>\n",
       "      <td>80.00</td>\n",
       "      <td>10401</td>\n",
       "      <td>77</td>\n",
       "      <td>73.60</td>\n",
       "      <td>9</td>\n",
       "    </tr>\n",
       "  </tbody>\n",
       "</table>\n",
       "</div>"
      ],
      "text/plain": [
       "  productCode                     productName   productLine productScale  \\\n",
       "0    S12_4675              1969 Dodge Charger  Classic Cars         1:12   \n",
       "1    S18_3278            1969 Dodge Super Bee  Classic Cars         1:18   \n",
       "2   S700_2466  America West Airlines B757-200        Planes        1:700   \n",
       "3    S12_3990         1970 Plymouth Hemi Cuda  Classic Cars         1:12   \n",
       "4   S700_3167              F/A 18 Hornet 1/72        Planes         1:72   \n",
       "\n",
       "               productVendor  \\\n",
       "0  Welly Diecast Productions   \n",
       "1            Min Lin Diecast   \n",
       "2    Motor City Art Classics   \n",
       "3        Studio M Art Models   \n",
       "4    Motor City Art Classics   \n",
       "\n",
       "                                  productDescription quantityInStock buyPrice  \\\n",
       "0  Detailed model of the 1969 Dodge Charger. This...            7323    58.73   \n",
       "1  This replica features opening doors, superb de...            1917    49.05   \n",
       "2  Official logos and insignias. Working steering...            9653    68.80   \n",
       "3  Very detailed 1970 Plymouth Cuda model in 1:12...            5663    31.92   \n",
       "4  10\" Wingspan with retractable landing gears.Co...             551    54.40   \n",
       "\n",
       "     MSRP orderNumber quantityOrdered priceEach orderLineNumber  \n",
       "0  115.16       10405              97    115.16               5  \n",
       "1   80.41       10404              90     67.54               6  \n",
       "2   99.72       10401              85     98.72              10  \n",
       "3   79.80       10404              77     67.03               4  \n",
       "4   80.00       10401              77     73.60               9  "
      ]
     },
     "execution_count": 18,
     "metadata": {},
     "output_type": "execute_result"
    }
   ],
   "source": [
    "# Your code here\n",
    "# What product had the highest quantity ordered?\n",
    "\n",
    "cursor.execute(\"\"\"SELECT * FROM products LEFT JOIN orderdetails USING(productCode) ORDER BY quantityOrdered DESC;\"\"\")\n",
    "df = pd.DataFrame(cursor.fetchall()) \n",
    "df.columns = [i[0] for i in cursor.description]\n",
    "df.head()\n",
    "\n",
    "# 1969 Dodge Charger"
   ]
  },
  {
   "cell_type": "code",
   "execution_count": 22,
   "metadata": {},
   "outputs": [
    {
     "data": {
      "text/html": [
       "<div>\n",
       "<style scoped>\n",
       "    .dataframe tbody tr th:only-of-type {\n",
       "        vertical-align: middle;\n",
       "    }\n",
       "\n",
       "    .dataframe tbody tr th {\n",
       "        vertical-align: top;\n",
       "    }\n",
       "\n",
       "    .dataframe thead th {\n",
       "        text-align: right;\n",
       "    }\n",
       "</style>\n",
       "<table border=\"1\" class=\"dataframe\">\n",
       "  <thead>\n",
       "    <tr style=\"text-align: right;\">\n",
       "      <th></th>\n",
       "      <th>customerNumber</th>\n",
       "      <th>customerName</th>\n",
       "      <th>contactLastName</th>\n",
       "      <th>contactFirstName</th>\n",
       "      <th>phone</th>\n",
       "      <th>addressLine1</th>\n",
       "      <th>addressLine2</th>\n",
       "      <th>city</th>\n",
       "      <th>state</th>\n",
       "      <th>postalCode</th>\n",
       "      <th>country</th>\n",
       "      <th>salesRepEmployeeNumber</th>\n",
       "      <th>creditLimit</th>\n",
       "      <th>orderNumber</th>\n",
       "      <th>orderDate</th>\n",
       "      <th>requiredDate</th>\n",
       "      <th>shippedDate</th>\n",
       "      <th>status</th>\n",
       "      <th>comments</th>\n",
       "    </tr>\n",
       "  </thead>\n",
       "  <tbody>\n",
       "    <tr>\n",
       "      <th>0</th>\n",
       "      <td>363</td>\n",
       "      <td>Online Diecast Creations Co.</td>\n",
       "      <td>Young</td>\n",
       "      <td>Dorothy</td>\n",
       "      <td>6035558647</td>\n",
       "      <td>2304 Long Airport Avenue</td>\n",
       "      <td></td>\n",
       "      <td>Nashua</td>\n",
       "      <td>NH</td>\n",
       "      <td>62005</td>\n",
       "      <td>USA</td>\n",
       "      <td>1216</td>\n",
       "      <td>114200.00</td>\n",
       "      <td>10100</td>\n",
       "      <td>2003-01-06</td>\n",
       "      <td>2003-01-13</td>\n",
       "      <td>2003-01-10</td>\n",
       "      <td>Shipped</td>\n",
       "      <td></td>\n",
       "    </tr>\n",
       "    <tr>\n",
       "      <th>1</th>\n",
       "      <td>128</td>\n",
       "      <td>Blauer See Auto, Co.</td>\n",
       "      <td>Keitel</td>\n",
       "      <td>Roland</td>\n",
       "      <td>+49 69 66 90 2555</td>\n",
       "      <td>Lyonerstr. 34</td>\n",
       "      <td></td>\n",
       "      <td>Frankfurt</td>\n",
       "      <td></td>\n",
       "      <td>60528</td>\n",
       "      <td>Germany</td>\n",
       "      <td>1504</td>\n",
       "      <td>59700.00</td>\n",
       "      <td>10101</td>\n",
       "      <td>2003-01-09</td>\n",
       "      <td>2003-01-18</td>\n",
       "      <td>2003-01-11</td>\n",
       "      <td>Shipped</td>\n",
       "      <td>Check on availability.</td>\n",
       "    </tr>\n",
       "    <tr>\n",
       "      <th>2</th>\n",
       "      <td>181</td>\n",
       "      <td>Vitachrome Inc.</td>\n",
       "      <td>Frick</td>\n",
       "      <td>Michael</td>\n",
       "      <td>2125551500</td>\n",
       "      <td>2678 Kingston Rd.</td>\n",
       "      <td>Suite 101</td>\n",
       "      <td>NYC</td>\n",
       "      <td>NY</td>\n",
       "      <td>10022</td>\n",
       "      <td>USA</td>\n",
       "      <td>1286</td>\n",
       "      <td>76400.00</td>\n",
       "      <td>10102</td>\n",
       "      <td>2003-01-10</td>\n",
       "      <td>2003-01-18</td>\n",
       "      <td>2003-01-14</td>\n",
       "      <td>Shipped</td>\n",
       "      <td></td>\n",
       "    </tr>\n",
       "    <tr>\n",
       "      <th>3</th>\n",
       "      <td>121</td>\n",
       "      <td>Baane Mini Imports</td>\n",
       "      <td>Bergulfsen</td>\n",
       "      <td>Jonas</td>\n",
       "      <td>07-98 9555</td>\n",
       "      <td>Erling Skakkes gate 78</td>\n",
       "      <td></td>\n",
       "      <td>Stavern</td>\n",
       "      <td></td>\n",
       "      <td>4110</td>\n",
       "      <td>Norway</td>\n",
       "      <td>1504</td>\n",
       "      <td>81700.00</td>\n",
       "      <td>10103</td>\n",
       "      <td>2003-01-29</td>\n",
       "      <td>2003-02-07</td>\n",
       "      <td>2003-02-02</td>\n",
       "      <td>Shipped</td>\n",
       "      <td></td>\n",
       "    </tr>\n",
       "    <tr>\n",
       "      <th>4</th>\n",
       "      <td>141</td>\n",
       "      <td>Euro+ Shopping Channel</td>\n",
       "      <td>Freyre</td>\n",
       "      <td>Diego</td>\n",
       "      <td>(91) 555 94 44</td>\n",
       "      <td>C/ Moralzarzal, 86</td>\n",
       "      <td></td>\n",
       "      <td>Madrid</td>\n",
       "      <td></td>\n",
       "      <td>28034</td>\n",
       "      <td>Spain</td>\n",
       "      <td>1370</td>\n",
       "      <td>227600.00</td>\n",
       "      <td>10104</td>\n",
       "      <td>2003-01-31</td>\n",
       "      <td>2003-02-09</td>\n",
       "      <td>2003-02-01</td>\n",
       "      <td>Shipped</td>\n",
       "      <td></td>\n",
       "    </tr>\n",
       "  </tbody>\n",
       "</table>\n",
       "</div>"
      ],
      "text/plain": [
       "  customerNumber                  customerName contactLastName  \\\n",
       "0            363  Online Diecast Creations Co.           Young   \n",
       "1            128          Blauer See Auto, Co.          Keitel   \n",
       "2            181               Vitachrome Inc.           Frick   \n",
       "3            121            Baane Mini Imports      Bergulfsen   \n",
       "4            141        Euro+ Shopping Channel          Freyre   \n",
       "\n",
       "  contactFirstName              phone              addressLine1 addressLine2  \\\n",
       "0          Dorothy         6035558647  2304 Long Airport Avenue                \n",
       "1           Roland  +49 69 66 90 2555             Lyonerstr. 34                \n",
       "2          Michael         2125551500         2678 Kingston Rd.    Suite 101   \n",
       "3           Jonas          07-98 9555    Erling Skakkes gate 78                \n",
       "4           Diego      (91) 555 94 44        C/ Moralzarzal, 86                \n",
       "\n",
       "        city state postalCode  country salesRepEmployeeNumber creditLimit  \\\n",
       "0     Nashua    NH      62005      USA                   1216   114200.00   \n",
       "1  Frankfurt            60528  Germany                   1504    59700.00   \n",
       "2        NYC    NY      10022      USA                   1286    76400.00   \n",
       "3    Stavern             4110   Norway                   1504    81700.00   \n",
       "4     Madrid            28034    Spain                   1370   227600.00   \n",
       "\n",
       "  orderNumber   orderDate requiredDate shippedDate   status  \\\n",
       "0       10100  2003-01-06   2003-01-13  2003-01-10  Shipped   \n",
       "1       10101  2003-01-09   2003-01-18  2003-01-11  Shipped   \n",
       "2       10102  2003-01-10   2003-01-18  2003-01-14  Shipped   \n",
       "3       10103  2003-01-29   2003-02-07  2003-02-02  Shipped   \n",
       "4       10104  2003-01-31   2003-02-09  2003-02-01  Shipped   \n",
       "\n",
       "                 comments  \n",
       "0                          \n",
       "1  Check on availability.  \n",
       "2                          \n",
       "3                          \n",
       "4                          "
      ]
     },
     "execution_count": 22,
     "metadata": {},
     "output_type": "execute_result"
    }
   ],
   "source": [
    "# Your code here\n",
    "# Who had the first order?\n",
    "\n",
    "cursor.execute(\"\"\"SELECT * FROM customers JOIN orders USING(customerNumber) ORDER BY orderDate ASC;\"\"\")\n",
    "df = pd.DataFrame(cursor.fetchall()) \n",
    "df.columns = [i[0] for i in cursor.description]\n",
    "df.head()\n",
    "\n",
    "# Dorothy You"
   ]
  },
  {
   "cell_type": "code",
   "execution_count": null,
   "metadata": {},
   "outputs": [],
   "source": [
    "# Your code here"
   ]
  },
  {
   "cell_type": "markdown",
   "metadata": {},
   "source": [
    "## Level Up: Display the names of each product each employee has sold."
   ]
  },
  {
   "cell_type": "code",
   "execution_count": null,
   "metadata": {},
   "outputs": [],
   "source": [
    "# Your code here"
   ]
  },
  {
   "cell_type": "markdown",
   "metadata": {},
   "source": [
    "## Level Up: Display the Number of Products each Employee Has sold"
   ]
  },
  {
   "cell_type": "code",
   "execution_count": null,
   "metadata": {},
   "outputs": [],
   "source": [
    "#Your code here"
   ]
  },
  {
   "cell_type": "markdown",
   "metadata": {},
   "source": [
    "## Summary"
   ]
  },
  {
   "cell_type": "markdown",
   "metadata": {},
   "source": [
    "Congrats! You now know how to use Join statements, along with leveraging your foreign keys knowledge!"
   ]
  }
 ],
 "metadata": {
  "kernelspec": {
   "display_name": "Python 3",
   "language": "python",
   "name": "python3"
  },
  "language_info": {
   "codemirror_mode": {
    "name": "ipython",
    "version": 3
   },
   "file_extension": ".py",
   "mimetype": "text/x-python",
   "name": "python",
   "nbconvert_exporter": "python",
   "pygments_lexer": "ipython3",
   "version": "3.6.4"
  }
 },
 "nbformat": 4,
 "nbformat_minor": 2
}
